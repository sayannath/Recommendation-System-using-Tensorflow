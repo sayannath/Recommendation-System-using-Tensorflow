{
  "nbformat": 4,
  "nbformat_minor": 0,
  "metadata": {
    "colab": {
      "name": "Recommendation System.ipynb",
      "provenance": [],
      "collapsed_sections": []
    },
    "kernelspec": {
      "name": "python3",
      "display_name": "Python 3"
    },
    "accelerator": "GPU"
  },
  "cells": [
    {
      "cell_type": "code",
      "metadata": {
        "id": "1lAq-uc0lqCy",
        "colab_type": "code",
        "colab": {
          "base_uri": "https://localhost:8080/",
          "height": 35
        },
        "outputId": "d7b7d3c0-5c1a-4033-8a87-340a92eaef85"
      },
      "source": [
        "import tensorflow as tf\n",
        "print(tf.__version__)"
      ],
      "execution_count": 1,
      "outputs": [
        {
          "output_type": "stream",
          "text": [
            "2.2.0\n"
          ],
          "name": "stdout"
        }
      ]
    },
    {
      "cell_type": "code",
      "metadata": {
        "id": "DfqoeDZWmnbX",
        "colab_type": "code",
        "colab": {
          "base_uri": "https://localhost:8080/",
          "height": 53
        },
        "outputId": "1e7fcdcd-7ecd-40f7-ef74-293501e1c691"
      },
      "source": [
        "from sklearn.utils import shuffle\n",
        "\n",
        "import numpy as np\n",
        "import pandas as pd\n",
        "import matplotlib.pyplot as plt\n",
        "\n",
        "import keras\n",
        "print(keras.__version__)\n",
        "from keras.layers import Input, Dense, Embedding, Flatten, Concatenate\n",
        "from keras.models import Model\n",
        "from keras.optimizers import SGD, Adam"
      ],
      "execution_count": 2,
      "outputs": [
        {
          "output_type": "stream",
          "text": [
            "2.3.1\n"
          ],
          "name": "stdout"
        },
        {
          "output_type": "stream",
          "text": [
            "Using TensorFlow backend.\n"
          ],
          "name": "stderr"
        }
      ]
    },
    {
      "cell_type": "code",
      "metadata": {
        "id": "iQVHUwT7nbo4",
        "colab_type": "code",
        "colab": {
          "base_uri": "https://localhost:8080/",
          "height": 215
        },
        "outputId": "4897981e-c8ce-4934-9d30-af12d2eeeef8"
      },
      "source": [
        "!wget -nc http://files.grouplens.org/datasets/movielens/ml-20m.zip"
      ],
      "execution_count": 3,
      "outputs": [
        {
          "output_type": "stream",
          "text": [
            "--2020-06-26 14:30:13--  http://files.grouplens.org/datasets/movielens/ml-20m.zip\n",
            "Resolving files.grouplens.org (files.grouplens.org)... 128.101.65.152\n",
            "Connecting to files.grouplens.org (files.grouplens.org)|128.101.65.152|:80... connected.\n",
            "HTTP request sent, awaiting response... 200 OK\n",
            "Length: 198702078 (189M) [application/zip]\n",
            "Saving to: ‘ml-20m.zip’\n",
            "\n",
            "ml-20m.zip          100%[===================>] 189.50M  26.2MB/s    in 7.9s    \n",
            "\n",
            "2020-06-26 14:30:21 (23.9 MB/s) - ‘ml-20m.zip’ saved [198702078/198702078]\n",
            "\n"
          ],
          "name": "stdout"
        }
      ]
    },
    {
      "cell_type": "code",
      "metadata": {
        "id": "yz5QMx2BnrMj",
        "colab_type": "code",
        "colab": {
          "base_uri": "https://localhost:8080/",
          "height": 179
        },
        "outputId": "4178ab98-6137-4849-dd8c-64fa5b734602"
      },
      "source": [
        "# Unzip\n",
        "!unzip -n ml-20m.zip"
      ],
      "execution_count": 4,
      "outputs": [
        {
          "output_type": "stream",
          "text": [
            "Archive:  ml-20m.zip\n",
            "   creating: ml-20m/\n",
            "  inflating: ml-20m/genome-scores.csv  \n",
            "  inflating: ml-20m/genome-tags.csv  \n",
            "  inflating: ml-20m/links.csv        \n",
            "  inflating: ml-20m/movies.csv       \n",
            "  inflating: ml-20m/ratings.csv      \n",
            "  inflating: ml-20m/README.txt       \n",
            "  inflating: ml-20m/tags.csv         \n"
          ],
          "name": "stdout"
        }
      ]
    },
    {
      "cell_type": "code",
      "metadata": {
        "id": "Ij-CEfUjoxUi",
        "colab_type": "code",
        "colab": {
          "base_uri": "https://localhost:8080/",
          "height": 204
        },
        "outputId": "fc34e4df-86d8-4b50-f225-2e496e09e46a"
      },
      "source": [
        "df = pd.read_csv('ml-20m/ratings.csv')\n",
        "df.head()"
      ],
      "execution_count": 5,
      "outputs": [
        {
          "output_type": "execute_result",
          "data": {
            "text/html": [
              "<div>\n",
              "<style scoped>\n",
              "    .dataframe tbody tr th:only-of-type {\n",
              "        vertical-align: middle;\n",
              "    }\n",
              "\n",
              "    .dataframe tbody tr th {\n",
              "        vertical-align: top;\n",
              "    }\n",
              "\n",
              "    .dataframe thead th {\n",
              "        text-align: right;\n",
              "    }\n",
              "</style>\n",
              "<table border=\"1\" class=\"dataframe\">\n",
              "  <thead>\n",
              "    <tr style=\"text-align: right;\">\n",
              "      <th></th>\n",
              "      <th>userId</th>\n",
              "      <th>movieId</th>\n",
              "      <th>rating</th>\n",
              "      <th>timestamp</th>\n",
              "    </tr>\n",
              "  </thead>\n",
              "  <tbody>\n",
              "    <tr>\n",
              "      <th>0</th>\n",
              "      <td>1</td>\n",
              "      <td>2</td>\n",
              "      <td>3.5</td>\n",
              "      <td>1112486027</td>\n",
              "    </tr>\n",
              "    <tr>\n",
              "      <th>1</th>\n",
              "      <td>1</td>\n",
              "      <td>29</td>\n",
              "      <td>3.5</td>\n",
              "      <td>1112484676</td>\n",
              "    </tr>\n",
              "    <tr>\n",
              "      <th>2</th>\n",
              "      <td>1</td>\n",
              "      <td>32</td>\n",
              "      <td>3.5</td>\n",
              "      <td>1112484819</td>\n",
              "    </tr>\n",
              "    <tr>\n",
              "      <th>3</th>\n",
              "      <td>1</td>\n",
              "      <td>47</td>\n",
              "      <td>3.5</td>\n",
              "      <td>1112484727</td>\n",
              "    </tr>\n",
              "    <tr>\n",
              "      <th>4</th>\n",
              "      <td>1</td>\n",
              "      <td>50</td>\n",
              "      <td>3.5</td>\n",
              "      <td>1112484580</td>\n",
              "    </tr>\n",
              "  </tbody>\n",
              "</table>\n",
              "</div>"
            ],
            "text/plain": [
              "   userId  movieId  rating   timestamp\n",
              "0       1        2     3.5  1112486027\n",
              "1       1       29     3.5  1112484676\n",
              "2       1       32     3.5  1112484819\n",
              "3       1       47     3.5  1112484727\n",
              "4       1       50     3.5  1112484580"
            ]
          },
          "metadata": {
            "tags": []
          },
          "execution_count": 5
        }
      ]
    },
    {
      "cell_type": "code",
      "metadata": {
        "id": "8y-jWnPRpAl5",
        "colab_type": "code",
        "colab": {}
      },
      "source": [
        "df.userId = pd.Categorical(df.userId)\n",
        "df['new_user_id'] = df.userId.cat.codes\n",
        "\n",
        "df.movieId = pd.Categorical(df.movieId)\n",
        "df['new_movie_id'] = df.movieId.cat.codes"
      ],
      "execution_count": 6,
      "outputs": []
    },
    {
      "cell_type": "code",
      "metadata": {
        "id": "rdK59DXHsO1w",
        "colab_type": "code",
        "colab": {}
      },
      "source": [
        "user_ids = df['new_user_id'].values\n",
        "movie_ids = df['new_movie_id'].values\n",
        "ratings = df['rating'].values"
      ],
      "execution_count": 7,
      "outputs": []
    },
    {
      "cell_type": "code",
      "metadata": {
        "id": "A2yxVDGPDpBv",
        "colab_type": "code",
        "colab": {}
      },
      "source": [
        "N = len(set(user_ids))\n",
        "M = len(set(movie_ids))"
      ],
      "execution_count": 8,
      "outputs": []
    },
    {
      "cell_type": "code",
      "metadata": {
        "id": "9QyTrpoaDypU",
        "colab_type": "code",
        "colab": {
          "base_uri": "https://localhost:8080/",
          "height": 53
        },
        "outputId": "cfcf7fe6-cf7b-48b6-ba6f-4dc6d0324bf1"
      },
      "source": [
        "print(N)\n",
        "print(M)"
      ],
      "execution_count": 9,
      "outputs": [
        {
          "output_type": "stream",
          "text": [
            "138493\n",
            "26744\n"
          ],
          "name": "stdout"
        }
      ]
    },
    {
      "cell_type": "code",
      "metadata": {
        "id": "As1Oaw8HD3dy",
        "colab_type": "code",
        "colab": {}
      },
      "source": [
        "#Set embedding Dimension\n",
        "K = 10"
      ],
      "execution_count": 10,
      "outputs": []
    },
    {
      "cell_type": "code",
      "metadata": {
        "id": "rykwHf-LD-yv",
        "colab_type": "code",
        "colab": {}
      },
      "source": [
        "# Neural Network\n",
        "\n",
        "# user input\n",
        "u = Input(shape=(1,))\n",
        "\n",
        "#movie input\n",
        "m = Input(shape=(1,))\n",
        "\n",
        "#User Embedding\n",
        "u_emb = Embedding(N, K)(u)  #output is (num_samples, 1, K)\n",
        "\n",
        "#Movie Embedding\n",
        "m_emb = Embedding(M, K)(m) #output is (num_samples, 1, K)\n",
        "\n",
        "#Flatten both the embeddings\n",
        "u_emb = Flatten()(u_emb)\n",
        "m_emb = Flatten()(m_emb)\n",
        "\n",
        "#Concatenate user-move into a new feature vector\n",
        "x = Concatenate()([u_emb, m_emb]) #now it's a (num_samples, 2K)\n",
        "\n",
        "#Now that we have a feature vector, it's just a regular ANN\n",
        "x = Dense(1024, activation='relu')(x)\n",
        "x = Dense(400, activation='relu')(x)\n",
        "x = Dense(400, activation='relu')(x)\n",
        "x = Dense(1)(x)"
      ],
      "execution_count": 18,
      "outputs": []
    },
    {
      "cell_type": "code",
      "metadata": {
        "id": "vS3PNl8BJ_IG",
        "colab_type": "code",
        "colab": {}
      },
      "source": [
        "#Build the model and compile\n",
        "model  = Model(inputs=[u, m], outputs=x)\n",
        "model.compile(loss='mse', optimizer=SGD(learning_rate=0.08, momentum=0.9),)"
      ],
      "execution_count": 12,
      "outputs": []
    },
    {
      "cell_type": "code",
      "metadata": {
        "id": "L_X0gaFwKp_6",
        "colab_type": "code",
        "colab": {}
      },
      "source": [
        "#split the data\n",
        "user_ids, movie_ids, ratings = shuffle(user_ids, movie_ids, ratings)\n",
        "Ntrain = int(0.8 * len(ratings))\n",
        "\n",
        "train_user = user_ids[:Ntrain]\n",
        "train_movie = movie_ids[:Ntrain]\n",
        "train_ratings = ratings[:Ntrain]\n",
        "\n",
        "test_user = user_ids[Ntrain:]\n",
        "test_movie = movie_ids[Ntrain:]\n",
        "test_ratings = ratings[Ntrain:]\n",
        "\n",
        "#center the ratings\n",
        "avg_rating = train_ratings.mean()\n",
        "train_ratings = train_ratings - avg_rating\n",
        "test_ratings = test_ratings - avg_rating"
      ],
      "execution_count": 15,
      "outputs": []
    },
    {
      "cell_type": "code",
      "metadata": {
        "id": "s_DZYcCrYj-J",
        "colab_type": "code",
        "colab": {
          "base_uri": "https://localhost:8080/",
          "height": 503
        },
        "outputId": "21e384b3-5fd3-40fb-a88a-dde692c157c2"
      },
      "source": [
        "model.summary()"
      ],
      "execution_count": 19,
      "outputs": [
        {
          "output_type": "stream",
          "text": [
            "Model: \"model_1\"\n",
            "__________________________________________________________________________________________________\n",
            "Layer (type)                    Output Shape         Param #     Connected to                     \n",
            "==================================================================================================\n",
            "input_1 (InputLayer)            (None, 1)            0                                            \n",
            "__________________________________________________________________________________________________\n",
            "input_2 (InputLayer)            (None, 1)            0                                            \n",
            "__________________________________________________________________________________________________\n",
            "embedding_1 (Embedding)         (None, 1, 10)        1384930     input_1[0][0]                    \n",
            "__________________________________________________________________________________________________\n",
            "embedding_2 (Embedding)         (None, 1, 10)        267440      input_2[0][0]                    \n",
            "__________________________________________________________________________________________________\n",
            "flatten_1 (Flatten)             (None, 10)           0           embedding_1[0][0]                \n",
            "__________________________________________________________________________________________________\n",
            "flatten_2 (Flatten)             (None, 10)           0           embedding_2[0][0]                \n",
            "__________________________________________________________________________________________________\n",
            "concatenate_1 (Concatenate)     (None, 20)           0           flatten_1[0][0]                  \n",
            "                                                                 flatten_2[0][0]                  \n",
            "__________________________________________________________________________________________________\n",
            "dense_1 (Dense)                 (None, 1024)         21504       concatenate_1[0][0]              \n",
            "__________________________________________________________________________________________________\n",
            "dense_2 (Dense)                 (None, 1)            1025        dense_1[0][0]                    \n",
            "==================================================================================================\n",
            "Total params: 1,674,899\n",
            "Trainable params: 1,674,899\n",
            "Non-trainable params: 0\n",
            "__________________________________________________________________________________________________\n"
          ],
          "name": "stdout"
        }
      ]
    },
    {
      "cell_type": "code",
      "metadata": {
        "id": "gBI9akWeRf96",
        "colab_type": "code",
        "colab": {
          "base_uri": "https://localhost:8080/",
          "height": 935
        },
        "outputId": "4cf84572-eed6-4783-c6a3-b7fd90624fdb"
      },
      "source": [
        "r = model.fit(\n",
        "    x=[train_user, train_movie],\n",
        "    y=train_ratings,\n",
        "    epochs=25,\n",
        "    batch_size=1024,\n",
        "    verbose=2,\n",
        "    validation_data=([test_user, test_movie], test_ratings),\n",
        ")"
      ],
      "execution_count": 20,
      "outputs": [
        {
          "output_type": "stream",
          "text": [
            "Train on 16000210 samples, validate on 4000053 samples\n",
            "Epoch 1/25\n",
            " - 52s - loss: 0.5326 - val_loss: 0.6289\n",
            "Epoch 2/25\n",
            " - 53s - loss: 0.5313 - val_loss: 0.6283\n",
            "Epoch 3/25\n",
            " - 51s - loss: 0.5302 - val_loss: 0.6318\n",
            "Epoch 4/25\n",
            " - 52s - loss: 0.5291 - val_loss: 0.6319\n",
            "Epoch 5/25\n",
            " - 51s - loss: 0.5280 - val_loss: 0.6300\n",
            "Epoch 6/25\n",
            " - 51s - loss: 0.5269 - val_loss: 0.6296\n",
            "Epoch 7/25\n",
            " - 51s - loss: 0.5261 - val_loss: 0.6303\n",
            "Epoch 8/25\n",
            " - 51s - loss: 0.5252 - val_loss: 0.6318\n",
            "Epoch 9/25\n",
            " - 50s - loss: 0.5243 - val_loss: 0.6317\n",
            "Epoch 10/25\n",
            " - 51s - loss: 0.5235 - val_loss: 0.6303\n",
            "Epoch 11/25\n",
            " - 50s - loss: 0.5227 - val_loss: 0.6325\n",
            "Epoch 12/25\n",
            " - 50s - loss: 0.5220 - val_loss: 0.6303\n",
            "Epoch 13/25\n",
            " - 50s - loss: 0.5213 - val_loss: 0.6332\n",
            "Epoch 14/25\n",
            " - 50s - loss: 0.5206 - val_loss: 0.6361\n",
            "Epoch 15/25\n",
            " - 50s - loss: 0.5200 - val_loss: 0.6361\n",
            "Epoch 16/25\n",
            " - 51s - loss: 0.5193 - val_loss: 0.6343\n",
            "Epoch 17/25\n",
            " - 50s - loss: 0.5186 - val_loss: 0.6358\n",
            "Epoch 18/25\n",
            " - 50s - loss: 0.5181 - val_loss: 0.6367\n",
            "Epoch 19/25\n",
            " - 50s - loss: 0.5176 - val_loss: 0.6359\n",
            "Epoch 20/25\n",
            " - 49s - loss: 0.5170 - val_loss: 0.6370\n",
            "Epoch 21/25\n",
            " - 49s - loss: 0.5164 - val_loss: 0.6367\n",
            "Epoch 22/25\n",
            " - 51s - loss: 0.5159 - val_loss: 0.6351\n",
            "Epoch 23/25\n",
            " - 50s - loss: 0.5154 - val_loss: 0.6378\n",
            "Epoch 24/25\n",
            " - 49s - loss: 0.5148 - val_loss: 0.6398\n",
            "Epoch 25/25\n",
            " - 50s - loss: 0.5144 - val_loss: 0.6383\n"
          ],
          "name": "stdout"
        }
      ]
    },
    {
      "cell_type": "code",
      "metadata": {
        "id": "RiNdqBvPSD-2",
        "colab_type": "code",
        "colab": {
          "base_uri": "https://localhost:8080/",
          "height": 265
        },
        "outputId": "bfb89395-2cd7-4168-dc10-d7adaf220758"
      },
      "source": [
        "#plot losses\n",
        "plt.plot(r.history['loss'], label=\"train_loss\")\n",
        "plt.plot(r.history['val_loss'], label=\"val_loss\")\n",
        "plt.legend()\n",
        "plt.show()"
      ],
      "execution_count": 21,
      "outputs": [
        {
          "output_type": "display_data",
          "data": {
            "image/png": "[encoded data removed]",
            "text/plain": [
              "<Figure size 432x288 with 1 Axes>"
            ]
          },
          "metadata": {
            "tags": [],
            "needs_background": "light"
          }
        }
      ]
    },
    {
      "cell_type": "code",
      "metadata": {
        "id": "AZe8GpBOSjf9",
        "colab_type": "code",
        "colab": {
          "base_uri": "https://localhost:8080/",
          "height": 35
        },
        "outputId": "788630cf-61dd-427a-e984-2525d6670bd6"
      },
      "source": [
        "np.sqrt(0.6259)"
      ],
      "execution_count": 22,
      "outputs": [
        {
          "output_type": "execute_result",
          "data": {
            "text/plain": [
              "0.7911384202527394"
            ]
          },
          "metadata": {
            "tags": []
          },
          "execution_count": 22
        }
      ]
    },
    {
      "cell_type": "code",
      "metadata": {
        "id": "zOoJ7qJqeAmk",
        "colab_type": "code",
        "colab": {}
      },
      "source": [
        "model.save('systemRecommend.h5')"
      ],
      "execution_count": 23,
      "outputs": []
    },
    {
      "cell_type": "code",
      "metadata": {
        "id": "41lgZay2eJJj",
        "colab_type": "code",
        "colab": {}
      },
      "source": [
        ""
      ],
      "execution_count": null,
      "outputs": []
    }
  ]
}